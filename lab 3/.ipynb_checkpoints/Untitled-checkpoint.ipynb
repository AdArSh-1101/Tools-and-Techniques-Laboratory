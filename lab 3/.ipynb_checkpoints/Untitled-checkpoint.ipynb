{
 "cells": [
  {
   "cell_type": "code",
   "execution_count": 33,
   "id": "2ce4e491-85ca-45d2-88c8-e700aacbce8e",
   "metadata": {},
   "outputs": [],
   "source": [
    "import numpy as np"
   ]
  },
  {
   "cell_type": "markdown",
   "id": "31a5e5ba-b37b-480f-b4c5-66fa74e3f8a2",
   "metadata": {},
   "source": [
    "# Experiment: 1"
   ]
  },
  {
   "cell_type": "markdown",
   "id": "1115fc43-0c17-420c-84c8-95fc94910b6a",
   "metadata": {},
   "source": [
    "## basic mathematical operations"
   ]
  },
  {
   "cell_type": "code",
   "execution_count": 34,
   "id": "b35eea58-d989-4490-a566-7c857028c5f1",
   "metadata": {},
   "outputs": [],
   "source": [
    "a=np.array([1,2,3])\n",
    "b=np.array([5,6,7])"
   ]
  },
  {
   "cell_type": "code",
   "execution_count": 48,
   "id": "b256ba1e-c642-48c2-951e-67edb71c8682",
   "metadata": {},
   "outputs": [
    {
     "name": "stdout",
     "output_type": "stream",
     "text": [
      "[ 6  8 10]\n"
     ]
    }
   ],
   "source": [
    "print(np.add(a,b))"
   ]
  },
  {
   "cell_type": "code",
   "execution_count": 36,
   "id": "b20d3c98-eea3-4e5d-909f-cf1553af0f3e",
   "metadata": {},
   "outputs": [
    {
     "name": "stdout",
     "output_type": "stream",
     "text": [
      "[-4 -4 -4]\n"
     ]
    }
   ],
   "source": [
    "print(np.subtract(a,b))"
   ]
  },
  {
   "cell_type": "code",
   "execution_count": 37,
   "id": "b5d1ca30-63b9-44dd-a943-a5d7b228b6af",
   "metadata": {},
   "outputs": [
    {
     "name": "stdout",
     "output_type": "stream",
     "text": [
      "[ 5 12 21]\n"
     ]
    }
   ],
   "source": [
    "print(np.multiply(a,b))"
   ]
  },
  {
   "cell_type": "code",
   "execution_count": 38,
   "id": "31e4a1ab-a5ba-43ad-9ad8-a4e8858cc469",
   "metadata": {},
   "outputs": [
    {
     "name": "stdout",
     "output_type": "stream",
     "text": [
      "[0.2        0.33333333 0.42857143]\n"
     ]
    }
   ],
   "source": [
    "print(np.divide(a,b))"
   ]
  },
  {
   "cell_type": "markdown",
   "id": "4dcb5fcc-343c-4b91-9628-46a931aea464",
   "metadata": {},
   "source": [
    "## indexing and slicing"
   ]
  },
  {
   "cell_type": "code",
   "execution_count": 39,
   "id": "dda6a8b2-2653-46fd-baec-d4e7007a50a6",
   "metadata": {},
   "outputs": [
    {
     "name": "stdout",
     "output_type": "stream",
     "text": [
      "Element at index 2: 3\n"
     ]
    }
   ],
   "source": [
    "arr = np.array([1, 2, 3, 4, 5, 6, 7, 8, 9])\n",
    "print(f\"Element at index 2: {arr[2]}\")"
   ]
  },
  {
   "cell_type": "code",
   "execution_count": 40,
   "id": "e8caad6e-cc49-4110-a386-3e4fd04a9017",
   "metadata": {},
   "outputs": [
    {
     "name": "stdout",
     "output_type": "stream",
     "text": [
      "Elements from index 2 to 5: [3 4 5]\n",
      "Elements up to index 4(0-3): [1 2 3 4]\n",
      "Elements from index 3 to end: [4 5 6 7 8 9]\n",
      "Elements from index 0 to 6 with step 2: [1 3 5]\n"
     ]
    }
   ],
   "source": [
    "print(f\"Elements from index 2 to 5: {arr[2:5]}\")\n",
    "print(f\"Elements up to index 4(0-3): {arr[:4]}\")\n",
    "print(f\"Elements from index 3 to end: {arr[3:]}\")\n",
    "print(f\"Elements from index 0 to 6 with step 2: {arr[0:6:2]}\")"
   ]
  },
  {
   "cell_type": "markdown",
   "id": "e48216a4-1ad0-4574-98c4-e7f859507a4d",
   "metadata": {},
   "source": [
    "## mean median mode"
   ]
  },
  {
   "cell_type": "code",
   "execution_count": 41,
   "id": "f9b6ff73-67fb-4f60-a208-a8976be44f87",
   "metadata": {},
   "outputs": [
    {
     "name": "stdout",
     "output_type": "stream",
     "text": [
      "mean :5.0\n"
     ]
    }
   ],
   "source": [
    "m=np.mean(arr)\n",
    "print(f\"mean :{m}\")"
   ]
  },
  {
   "cell_type": "code",
   "execution_count": 42,
   "id": "01f367d6-e563-4e45-a019-5867c87e5f58",
   "metadata": {},
   "outputs": [
    {
     "name": "stdout",
     "output_type": "stream",
     "text": [
      "median :5.0\n"
     ]
    }
   ],
   "source": [
    "m=np.median(arr)\n",
    "print(f\"median :{m}\")"
   ]
  },
  {
   "cell_type": "code",
   "execution_count": 43,
   "id": "844bb2bf-afbc-4d9a-b7b1-ef77603a39d2",
   "metadata": {},
   "outputs": [
    {
     "name": "stdout",
     "output_type": "stream",
     "text": [
      "mode :ModeResult(mode=1, count=1)\n"
     ]
    }
   ],
   "source": [
    "#no mode in nummpy\n",
    "from spicy import stats\n",
    "m1=stats.mode(arr)\n",
    "print(f\"mode :{m1}\")"
   ]
  },
  {
   "cell_type": "markdown",
   "id": "45ab931a-0a81-4769-b6c8-52f080b192fe",
   "metadata": {},
   "source": [
    "## reshape and transpose"
   ]
  },
  {
   "cell_type": "code",
   "execution_count": 44,
   "id": "8c285b2b-5d49-4f5c-8b31-439edc390afc",
   "metadata": {},
   "outputs": [
    {
     "name": "stdout",
     "output_type": "stream",
     "text": [
      "Original Array:\n",
      "[[1 2 3]\n",
      " [4 5 6]]\n",
      "array shape (2, 3)\n",
      "\n",
      "Reshaped Array:\n",
      "[[1 2]\n",
      " [3 4]\n",
      " [5 6]]\n"
     ]
    }
   ],
   "source": [
    "arr1 = np.array([[1, 2, 3], [4, 5, 6]])\n",
    "print(f\"Original Array:\\n{arr1}\")\n",
    "print(\"array shape\",arr1.shape)\n",
    "reshaped = arr1.reshape(3, 2)\n",
    "print(f\"\\nReshaped Array:\\n{reshaped}\")"
   ]
  },
  {
   "cell_type": "code",
   "execution_count": 45,
   "id": "7c296251-8c41-432a-a7c0-217b552ef780",
   "metadata": {},
   "outputs": [
    {
     "name": "stdout",
     "output_type": "stream",
     "text": [
      "Original Array:\n",
      "[[1 2 3]\n",
      " [4 5 6]]\n",
      "array shape (2, 3)\n",
      "\n",
      "Transposed Array:\n",
      "[[1 4]\n",
      " [2 5]\n",
      " [3 6]]\n"
     ]
    }
   ],
   "source": [
    "print(f\"Original Array:\\n{arr1}\")\n",
    "print(\"array shape\",arr1.shape)\n",
    "reshaped = arr1.reshape(3, 2)\n",
    "transpose = arr1.T\n",
    "print(f\"\\nTransposed Array:\\n{transpose}\")"
   ]
  },
  {
   "cell_type": "markdown",
   "id": "a58bc38a-40de-48b9-af59-2d14c66be9da",
   "metadata": {},
   "source": [
    "# Experiment: 2"
   ]
  },
  {
   "cell_type": "markdown",
   "id": "9ff85b34-9f67-4a54-a34c-f2675d5c138e",
   "metadata": {},
   "source": [
    "## Problem: Analyzing Temperature Data"
   ]
  },
  {
   "cell_type": "markdown",
   "id": "d9f3cee3-1a32-4392-8e50-b5d759addc71",
   "metadata": {},
   "source": [
    "## Data Preparation:"
   ]
  },
  {
   "cell_type": "code",
   "execution_count": 49,
   "id": "acb0c263-3093-4692-aabc-744dbcb6e123",
   "metadata": {},
   "outputs": [
    {
     "name": "stdout",
     "output_type": "stream",
     "text": [
      "[12.79723679 15.9390336  28.4389492  23.13570278 10.36857002 13.801452\n",
      " 36.6473176  28.77187254 37.60542531 15.09102694 20.50739181 38.95869177\n",
      " 37.66720782 26.68780893 20.8272973  26.48775269 19.35838836 15.35309767\n",
      " 26.97122802 17.06944262 35.32431564 21.88670802 18.19661364 10.69957841\n",
      " 30.06936788 19.73463576 28.22847992 12.67294459 23.08576082 39.62030726\n",
      " 37.37386289 16.44946996 16.57687611 20.22610173 25.15213132 29.31599451\n",
      " 15.39506214 35.93289212 34.12729332 24.52906728 26.51692999 31.57924465\n",
      " 38.90159804 10.01921822 38.63568046 34.83241467 27.37329301 29.20406669\n",
      " 27.53739163 30.57704382 24.87966879 26.14827777 24.14335992 31.49497406\n",
      " 24.49446408 13.84161841 25.01584937 39.04164769 14.04473927 19.7340438\n",
      " 15.72521668 27.13192401 18.48354579 12.02645598 13.13375771 16.05359792\n",
      " 36.33473724 38.69912068 38.67223531 27.70013403 10.41073488 11.99330682\n",
      " 29.12688066 33.74437976 27.61777121 14.83777872 33.2046393  13.33401181\n",
      " 13.44081398 32.06556411 14.88423575 32.29290102 33.21935073 23.99065912\n",
      " 12.18564806 16.84315476 15.48641794 19.51478002 10.59533535 24.07642362\n",
      " 20.098843   36.00652803 22.88867323 24.25971936 31.55630298 12.38383082\n",
      " 22.73669001 32.28813098 39.31375375 36.14426565 17.24829606 13.78887778\n",
      " 33.31208009 20.10650815 15.85781362 12.65112124 29.87128258 20.28378584\n",
      " 15.38745686 37.8574109  37.02166063 36.0868734  11.56341845 29.50290635\n",
      " 38.40182984 13.42584702 14.09589611 29.67700637 34.53712439 35.12534433\n",
      " 26.32758777 31.69150308 25.51394117 22.68834409 31.09623706 14.63646066\n",
      " 15.43418264 14.87187507 17.00262829 18.52533397 29.74631679 27.55473292\n",
      " 21.17905762 37.85767406 28.55252927 24.01663071 24.58238611 23.39451198\n",
      " 36.09429798 12.56604672 25.28896082 23.61883948 36.16864077 38.73797756\n",
      " 34.13895653 22.58221556 26.80899998 31.17975551 23.75500507 31.69849293\n",
      " 18.40548778 16.20639796 20.89659145 13.45492352 21.65226191 27.26753314\n",
      " 15.56359005 11.21535606 12.67038212 11.18246568 39.0697866  22.52848269\n",
      " 19.2266959  20.15497323 11.80154034 12.25162171 27.28471552 19.64266813]\n"
     ]
    }
   ],
   "source": [
    "hours = 7 * 24\n",
    "temperatures = np.random.uniform(low=10, high=40, size=hours)\n",
    "print(temperatures)"
   ]
  },
  {
   "cell_type": "code",
   "execution_count": 50,
   "id": "1e175ed0-441a-42dd-8835-2d0840141af5",
   "metadata": {},
   "outputs": [
    {
     "data": {
      "text/plain": [
       "(168,)"
      ]
     },
     "execution_count": 50,
     "metadata": {},
     "output_type": "execute_result"
    }
   ],
   "source": [
    "temperatures.shape"
   ]
  },
  {
   "cell_type": "markdown",
   "id": "ca2c3808-4714-42a0-b609-a9fc4f4aa518",
   "metadata": {},
   "source": [
    "## Data Analysis:"
   ]
  },
  {
   "cell_type": "code",
   "execution_count": 52,
   "id": "b3707df8-9c04-42e6-8868-29e5af009453",
   "metadata": {},
   "outputs": [
    {
     "data": {
      "text/plain": [
       "24.185644453632897"
      ]
     },
     "execution_count": 52,
     "metadata": {},
     "output_type": "execute_result"
    }
   ],
   "source": [
    "np.mean(temperatures)"
   ]
  },
  {
   "cell_type": "code",
   "execution_count": 53,
   "id": "73c3ce03-7710-4f3c-8c8f-1d352013aafc",
   "metadata": {},
   "outputs": [
    {
     "data": {
      "text/plain": [
       "39.620307263361276"
      ]
     },
     "execution_count": 53,
     "metadata": {},
     "output_type": "execute_result"
    }
   ],
   "source": [
    "np.max(temperatures)"
   ]
  },
  {
   "cell_type": "code",
   "execution_count": 54,
   "id": "4e5fc829-3c9c-4000-a454-dfc8ccbcf92c",
   "metadata": {},
   "outputs": [
    {
     "data": {
      "text/plain": [
       "10.01921822173169"
      ]
     },
     "execution_count": 54,
     "metadata": {},
     "output_type": "execute_result"
    }
   ],
   "source": [
    "np.min(temperatures)"
   ]
  },
  {
   "cell_type": "code",
   "execution_count": 55,
   "id": "828ed381-4fd9-4548-b20a-3df20afe2502",
   "metadata": {},
   "outputs": [
    {
     "data": {
      "text/plain": [
       "8.702171712877846"
      ]
     },
     "execution_count": 55,
     "metadata": {},
     "output_type": "execute_result"
    }
   ],
   "source": [
    "np.std(temperatures)"
   ]
  },
  {
   "cell_type": "markdown",
   "id": "5f06a139-f1dc-45a6-b329-809fcaa48ae2",
   "metadata": {},
   "source": [
    "## Time-based Analysis:"
   ]
  },
  {
   "cell_type": "code",
   "execution_count": 91,
   "id": "7c1cb8cd-6fe7-4f48-9502-bd03edfa33af",
   "metadata": {},
   "outputs": [],
   "source": [
    "temperatures=temperatures.reshape(7,24)"
   ]
  },
  {
   "cell_type": "code",
   "execution_count": 58,
   "id": "d200ce39-8c81-4213-a5e9-98af7054fce0",
   "metadata": {},
   "outputs": [
    {
     "data": {
      "text/plain": [
       "(7, 24)"
      ]
     },
     "execution_count": 58,
     "metadata": {},
     "output_type": "execute_result"
    }
   ],
   "source": [
    "temperatures.shape"
   ]
  },
  {
   "cell_type": "code",
   "execution_count": 59,
   "id": "1b831903-fe4a-44c0-b9fb-3d912c1ca90b",
   "metadata": {},
   "outputs": [
    {
     "name": "stdout",
     "output_type": "stream",
     "text": [
      "[[12.79723679 15.9390336  28.4389492  23.13570278 10.36857002 13.801452\n",
      "  36.6473176  28.77187254 37.60542531 15.09102694 20.50739181 38.95869177\n",
      "  37.66720782 26.68780893 20.8272973  26.48775269 19.35838836 15.35309767\n",
      "  26.97122802 17.06944262 35.32431564 21.88670802 18.19661364 10.69957841]\n",
      " [30.06936788 19.73463576 28.22847992 12.67294459 23.08576082 39.62030726\n",
      "  37.37386289 16.44946996 16.57687611 20.22610173 25.15213132 29.31599451\n",
      "  15.39506214 35.93289212 34.12729332 24.52906728 26.51692999 31.57924465\n",
      "  38.90159804 10.01921822 38.63568046 34.83241467 27.37329301 29.20406669]\n",
      " [27.53739163 30.57704382 24.87966879 26.14827777 24.14335992 31.49497406\n",
      "  24.49446408 13.84161841 25.01584937 39.04164769 14.04473927 19.7340438\n",
      "  15.72521668 27.13192401 18.48354579 12.02645598 13.13375771 16.05359792\n",
      "  36.33473724 38.69912068 38.67223531 27.70013403 10.41073488 11.99330682]\n",
      " [29.12688066 33.74437976 27.61777121 14.83777872 33.2046393  13.33401181\n",
      "  13.44081398 32.06556411 14.88423575 32.29290102 33.21935073 23.99065912\n",
      "  12.18564806 16.84315476 15.48641794 19.51478002 10.59533535 24.07642362\n",
      "  20.098843   36.00652803 22.88867323 24.25971936 31.55630298 12.38383082]\n",
      " [22.73669001 32.28813098 39.31375375 36.14426565 17.24829606 13.78887778\n",
      "  33.31208009 20.10650815 15.85781362 12.65112124 29.87128258 20.28378584\n",
      "  15.38745686 37.8574109  37.02166063 36.0868734  11.56341845 29.50290635\n",
      "  38.40182984 13.42584702 14.09589611 29.67700637 34.53712439 35.12534433]\n",
      " [26.32758777 31.69150308 25.51394117 22.68834409 31.09623706 14.63646066\n",
      "  15.43418264 14.87187507 17.00262829 18.52533397 29.74631679 27.55473292\n",
      "  21.17905762 37.85767406 28.55252927 24.01663071 24.58238611 23.39451198\n",
      "  36.09429798 12.56604672 25.28896082 23.61883948 36.16864077 38.73797756]\n",
      " [34.13895653 22.58221556 26.80899998 31.17975551 23.75500507 31.69849293\n",
      "  18.40548778 16.20639796 20.89659145 13.45492352 21.65226191 27.26753314\n",
      "  15.56359005 11.21535606 12.67038212 11.18246568 39.0697866  22.52848269\n",
      "  19.2266959  20.15497323 11.80154034 12.25162171 27.28471552 19.64266813]]\n"
     ]
    }
   ],
   "source": [
    "print(temperatures)"
   ]
  },
  {
   "cell_type": "code",
   "execution_count": 65,
   "id": "a8abd89a-e2c1-4f1b-a69b-ba8df23a111c",
   "metadata": {},
   "outputs": [
    {
     "name": "stdout",
     "output_type": "stream",
     "text": [
      "mean of day 1 is: 23.274671227667834\n",
      "mean of day 2 is: 26.89802888914225\n",
      "mean of day 3 is: 23.63824356946475\n",
      "mean of day 4 is: 22.818943473315773\n",
      "mean of day 5 is: 26.095224183668687\n",
      "mean of day 6 is: 25.297779024368396\n",
      "mean of day 7 is: 21.276620807802605\n"
     ]
    }
   ],
   "source": [
    "a=np.mean(temperatures,axis =1)\n",
    "for i in range(1,8):\n",
    "    print(f\"mean of day {i} is: {a[i-1]}\")"
   ]
  },
  {
   "cell_type": "code",
   "execution_count": 68,
   "id": "d59a2cab-5c2a-4c30-8a9e-81192a863568",
   "metadata": {},
   "outputs": [
    {
     "name": "stdout",
     "output_type": "stream",
     "text": [
      "max temp at day 1 is at: 11 hour\n",
      "max temp at day 2 is at: 5 hour\n",
      "max temp at day 3 is at: 9 hour\n",
      "max temp at day 4 is at: 19 hour\n",
      "max temp at day 5 is at: 2 hour\n",
      "max temp at day 6 is at: 23 hour\n",
      "max temp at day 7 is at: 16 hour\n"
     ]
    }
   ],
   "source": [
    "a=np.argmax(temperatures,axis =1)\n",
    "for i in range(1,8):\n",
    "    print(f\"max temp at day {i} is at: {a[i-1]} hour\")"
   ]
  },
  {
   "cell_type": "markdown",
   "id": "6c4ba457-2422-4030-b4e9-c60f242270f9",
   "metadata": {},
   "source": [
    "## Extreme Temperature Events:"
   ]
  },
  {
   "cell_type": "code",
   "execution_count": 75,
   "id": "6cbfa720-bf37-4bc3-b0e0-8f8dc275e64b",
   "metadata": {},
   "outputs": [
    {
     "name": "stdout",
     "output_type": "stream",
     "text": [
      "Indices when temperature exceeds 25: (array([0, 0, 0, 0, 0, 0, 0, 0, 0, 0, 1, 1, 1, 1, 1, 1, 1, 1, 1, 1, 1, 1,\n",
      "       1, 1, 1, 2, 2, 2, 2, 2, 2, 2, 2, 2, 2, 2, 3, 3, 3, 3, 3, 3, 3, 3,\n",
      "       3, 4, 4, 4, 4, 4, 4, 4, 4, 4, 4, 4, 4, 4, 5, 5, 5, 5, 5, 5, 5, 5,\n",
      "       5, 5, 5, 5, 6, 6, 6, 6, 6, 6, 6], dtype=int64), array([ 2,  6,  7,  8, 11, 12, 13, 15, 18, 20,  0,  2,  5,  6, 10, 11, 13,\n",
      "       14, 16, 17, 18, 20, 21, 22, 23,  0,  1,  3,  5,  8,  9, 13, 18, 19,\n",
      "       20, 21,  0,  1,  2,  4,  7,  9, 10, 19, 22,  1,  2,  3,  6, 10, 13,\n",
      "       14, 15, 17, 18, 21, 22, 23,  0,  1,  2,  4, 10, 11, 13, 14, 18, 20,\n",
      "       22, 23,  0,  2,  3,  5, 11, 16, 22], dtype=int64))\n",
      "Number of occurrences when temperature exceeds 25: 77\n"
     ]
    }
   ],
   "source": [
    "t= 25\n",
    "et = np.where(temperatures > t)\n",
    "n= len(et[0])\n",
    "print(f\"Indices when temperature exceeds {t}: {et}\")\n",
    "print(f\"Number of occurrences when temperature exceeds {t}: {n}\")"
   ]
  },
  {
   "cell_type": "markdown",
   "id": "41c4eb4d-191b-49e2-840c-84726ebeadb2",
   "metadata": {},
   "source": [
    "## Temperature Fluctuations:"
   ]
  },
  {
   "cell_type": "code",
   "execution_count": 76,
   "id": "247ec5b0-4984-40fc-86a9-765a6ec8b816",
   "metadata": {},
   "outputs": [
    {
     "name": "stdout",
     "output_type": "stream",
     "text": [
      "Hour with max positive temperature change: 42\n",
      "Hour with max negative temperature change: 41\n"
     ]
    }
   ],
   "source": [
    "temp_deltas = np.diff(temperatures)\n",
    "max_increase_hour = np.argmax(temp_deltas)\n",
    "max_decrease_hour = np.argmin(temp_deltas)\n",
    "\n",
    "print(f\"Hour with max positive temperature change: {max_increase_hour}\")\n",
    "print(f\"Hour with max negative temperature change: {max_decrease_hour}\")"
   ]
  },
  {
   "cell_type": "markdown",
   "id": "561b78f5-b08f-4d9b-92e5-d7a2878eb636",
   "metadata": {},
   "source": [
    "## Visualization:"
   ]
  },
  {
   "cell_type": "code",
   "execution_count": 95,
   "id": "0129811b-0370-4471-9607-daac8c528907",
   "metadata": {},
   "outputs": [
    {
     "data": {
      "image/png": "[encoded data removed]",
      "text/plain": [
       "<Figure size 1000x600 with 1 Axes>"
      ]
     },
     "metadata": {},
     "output_type": "display_data"
    }
   ],
   "source": [
    "import matplotlib.pyplot as plt\n",
    "selected_day = 2\n",
    "\n",
    "plt.figure(figsize=(10, 6))\n",
    "plt.plot(np.arange(24), temperatures[selected_day], marker='o')\n",
    "plt.title(\"Hourly Temperature Readings for Day \" + str(selected_day + 1))\n",
    "plt.xlabel(\"Hour\")\n",
    "plt.ylabel(\"Temperature (°C)\")\n",
    "plt.grid(True)\n",
    "plt.show()"
   ]
  },
  {
   "cell_type": "code",
   "execution_count": 94,
   "id": "6581ce45-641f-4cfc-9c35-2f5767ec97d3",
   "metadata": {},
   "outputs": [
    {
     "data": {
      "image/png": "[encoded data removed]",
      "text/plain": [
       "<Figure size 800x600 with 1 Axes>"
      ]
     },
     "metadata": {},
     "output_type": "display_data"
    }
   ],
   "source": [
    "\n",
    "plt.figure(figsize=(8, 6))\n",
    "plt.hist(temperatures.flatten(), bins=20, color='skyblue', edgecolor='black')  # Flatten the temperatures array\n",
    "plt.title(\"Distribution of Temperatures Across All Hours\")\n",
    "plt.xlabel(\"Temperature (°C)\")\n",
    "plt.ylabel(\"Frequency\")\n",
    "plt.grid(True)\n",
    "plt.show()"
   ]
  },
  {
   "cell_type": "code",
   "execution_count": null,
   "id": "702613b1-a278-4223-a021-090893504782",
   "metadata": {},
   "outputs": [],
   "source": []
  }
 ],
 "metadata": {
  "kernelspec": {
   "display_name": "Python 3 (ipykernel)",
   "language": "python",
   "name": "python3"
  },
  "language_info": {
   "codemirror_mode": {
    "name": "ipython",
    "version": 3
   },
   "file_extension": ".py",
   "mimetype": "text/x-python",
   "name": "python",
   "nbconvert_exporter": "python",
   "pygments_lexer": "ipython3",
   "version": "3.11.5"
  }
 },
 "nbformat": 4,
 "nbformat_minor": 5
}
