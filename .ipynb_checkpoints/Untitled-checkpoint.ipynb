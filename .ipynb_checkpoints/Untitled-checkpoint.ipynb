{
 "cells": [
  {
   "cell_type": "code",
   "execution_count": 1,
   "id": "84fcaca3",
   "metadata": {
    "scrolled": true
   },
   "outputs": [
    {
     "name": "stdout",
     "output_type": "stream",
     "text": [
      "hello world\n"
     ]
    }
   ],
   "source": [
    "print(\"hello world\")"
   ]
  },
  {
   "cell_type": "code",
   "execution_count": 28,
   "id": "4d8d77d4",
   "metadata": {},
   "outputs": [
    {
     "name": "stdout",
     "output_type": "stream",
     "text": [
      "Enter  name: Adarsh\n",
      "Enter age: 21\n",
      "Hello, Adarsh\n",
      "You are 21 years old.\n"
     ]
    }
   ],
   "source": [
    "n = input(\"Enter  name: \")\n",
    "a = int(input(\"Enter age: \"))\n",
    "print(\"Hello,\", n)\n",
    "print(\"You are\", a, \"years old.\")"
   ]
  },
  {
   "cell_type": "code",
   "execution_count": 29,
   "id": "9005be30",
   "metadata": {},
   "outputs": [
    {
     "name": "stdout",
     "output_type": "stream",
     "text": [
      "3.14\n"
     ]
    }
   ],
   "source": [
    "# Constants\n",
    "PI = 3.14\n",
    "print(PI)\n",
    "# single-line comment\n"
   ]
  },
  {
   "cell_type": "code",
   "execution_count": 30,
   "id": "fa428820",
   "metadata": {},
   "outputs": [
    {
     "name": "stdout",
     "output_type": "stream",
     "text": [
      "3.3333333333333335\n"
     ]
    }
   ],
   "source": [
    "a=10\n",
    "b=3\n",
    "c=float(a/b)\n",
    "print(c)"
   ]
  },
  {
   "cell_type": "code",
   "execution_count": 31,
   "id": "559c236e",
   "metadata": {},
   "outputs": [
    {
     "name": "stdout",
     "output_type": "stream",
     "text": [
      "Addition: 7\n",
      "Subtraction: 3\n",
      "Multiplication: 10\n",
      "Division: 2.5\n"
     ]
    }
   ],
   "source": [
    "\n",
    "a = 5\n",
    "b = 2\n",
    "\n",
    "add = a + b\n",
    "sub = a - b\n",
    "mul = a * b\n",
    "div = a / b\n",
    "\n",
    "print(\"Addition:\", add)\n",
    "print(\"Subtraction:\", sub)\n",
    "print(\"Multiplication:\", mul)\n",
    "print(\"Division:\", div)\n"
   ]
  },
  {
   "cell_type": "code",
   "execution_count": 9,
   "id": "83653742",
   "metadata": {},
   "outputs": [
    {
     "name": "stdout",
     "output_type": "stream",
     "text": [
      "adarsh mishra\n",
      "ADARSH MISHRA\n",
      "False\n",
      "13\n",
      "A\n",
      "7\n",
      "7\n",
      "9\n",
      "ADARSH Mishra\n"
     ]
    }
   ],
   "source": [
    "a=\"Adarsh Mishra\"\n",
    "a=a.lower()\n",
    "print(a)\n",
    "a=a.upper()\n",
    "print(a)\n",
    "print(a.lower().isupper())\n",
    "b=len(a)\n",
    "print(b)\n",
    "c=a[0]\n",
    "print(c)\n",
    "d=a.index(\"M\")\n",
    "print(d)\n",
    "d=a.index(\"MISHRA\")\n",
    "print(d)\n",
    "d=a.index(\"SHR\")\n",
    "print(d)\n",
    "a=a.replace(\"MISHRA\",\"Mishra\")\n",
    "print (a)"
   ]
  },
  {
   "cell_type": "code",
   "execution_count": 12,
   "id": "7b81f0b0",
   "metadata": {},
   "outputs": [
    {
     "name": "stdout",
     "output_type": "stream",
     "text": [
      "AND Result: False\n",
      "OR Result: True\n",
      "NOT Result: False\n"
     ]
    }
   ],
   "source": [
    "x = True\n",
    "y = False\n",
    "a= x and y\n",
    "o = x or y\n",
    "n = not x\n",
    "print(\"AND Result:\", a)\n",
    "print(\"OR Result:\", o)\n",
    "print(\"NOT Result:\", n)\n"
   ]
  },
  {
   "cell_type": "code",
   "execution_count": 15,
   "id": "fa37e8c5",
   "metadata": {},
   "outputs": [
    {
     "name": "stdout",
     "output_type": "stream",
     "text": [
      "abc\n",
      "['abc', 2.05, False, 'xyz', 'pqr', 'lmn']\n",
      "lmn\n",
      "pqr\n",
      "[2.05, False, 'xyz', 'pqr', 'lmn']\n",
      "[2.05, False]\n",
      "[1234, 2.05, False, 'xyz', 'pqr', 'lmn']\n",
      "\n",
      "\n",
      "\n",
      "\n",
      "list functions: \n",
      "[1, 2, 3, 4, 6, 7]\n",
      "[7, 6, 4, 3, 2, 1]\n"
     ]
    }
   ],
   "source": [
    "name=[\"abc\",2.05,False,\"xyz\",\"pqr\",\"lmn\"]\n",
    "print(name[0])\n",
    "print(name)\n",
    "print(name[-1])\n",
    "print(name[-2])\n",
    "print(name[1:])\n",
    "print(name[1:3])\n",
    "name[0]=1234\n",
    "print(name)\n",
    "print(\"\\n\\n\\n\\nlist functions: \")\n",
    "a=[2,4,1,3,7,6]\n",
    "a.sort()#sorting\n",
    "print(a)\n",
    "a.reverse()#reverse\n",
    "print(a)\n",
    "\n"
   ]
  },
  {
   "cell_type": "code",
   "execution_count": 35,
   "id": "49823240",
   "metadata": {},
   "outputs": [
    {
     "name": "stdout",
     "output_type": "stream",
     "text": [
      "zxcvbnm\n",
      "....\n",
      "abcde\n",
      "100\n"
     ]
    }
   ],
   "source": [
    "a = True\n",
    "if a:\n",
    "    print(\"zxcvbnm\")\n",
    "if 2 > 9:\n",
    "    print(\"???\")\n",
    "else:\n",
    "    print(\"....\")\n",
    "b = False\n",
    "if a or b:\n",
    "    print(\"abcde\")\n",
    "elif a:\n",
    "    print(\"/////\")\n",
    "else:\n",
    "    print(\"bnm,\")\n",
    "if a and b:\n",
    "    print(\"xyz\")\n",
    "def max_num(x, y, z):\n",
    "    if x >= y and x >=z:\n",
    "        return x\n",
    "    elif y >= x and y >= z:\n",
    "        return y\n",
    "    else:\n",
    "        return z\n",
    "c = max_num(7, 9, 100)\n",
    "print(c)\n"
   ]
  },
  {
   "cell_type": "code",
   "execution_count": 33,
   "id": "76715de1",
   "metadata": {},
   "outputs": [
    {
     "name": "stdout",
     "output_type": "stream",
     "text": [
      "Enter a number: 10\n",
      "remainder 0\n",
      "remainder 0\n",
      "remainder 1\n",
      "remainder 2\n",
      "remainder 0\n",
      "remainder 4\n",
      "remainder 3\n",
      "remainder 2\n",
      "remainder 1\n",
      "Enter a number: 1\n",
      "2\n",
      "4\n",
      "6\n",
      "8\n"
     ]
    }
   ],
   "source": [
    "a = int(input(\"Enter a number: \"))\n",
    "for i in range(1,a):\n",
    "   \n",
    "    print(\"remainder\", a%i)\n",
    "    \n",
    "\n",
    "c = int(input(\"Enter a number: \"))\n",
    "while c < a:\n",
    "    if(c%2==0):\n",
    "        print(c)\n",
    "    c+=1\n"
   ]
  }
 ],
 "metadata": {
  "kernelspec": {
   "display_name": "Python 3 (ipykernel)",
   "language": "python",
   "name": "python3"
  },
  "language_info": {
   "codemirror_mode": {
    "name": "ipython",
    "version": 3
   },
   "file_extension": ".py",
   "mimetype": "text/x-python",
   "name": "python",
   "nbconvert_exporter": "python",
   "pygments_lexer": "ipython3",
   "version": "3.11.5"
  }
 },
 "nbformat": 4,
 "nbformat_minor": 5
}
