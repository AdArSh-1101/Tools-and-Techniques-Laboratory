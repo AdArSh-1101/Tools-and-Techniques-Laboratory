{
 "cells": [
  {
   "cell_type": "code",
   "execution_count": 8,
   "id": "d005c46b",
   "metadata": {},
   "outputs": [
    {
     "name": "stdout",
     "output_type": "stream",
     "text": [
      "select a random number between 1 and 10.\n",
      "Your guess: 7\n",
      "Too low\n",
      "Your guess: 9\n",
      "Too low\n",
      "Your guess: 10\n",
      "correct number.\n"
     ]
    }
   ],
   "source": [
    "n = random.randint(1, 10)\n",
    "print(\"select a random number between 1 and 10.\")\n",
    "while True:\n",
    "    n1 = int(input(\"Your guess: \"))\n",
    "    if n1 == n:\n",
    "        print(\"correct number.\")\n",
    "        break  \n",
    "    elif n1 > n:\n",
    "        print(\"Too high\")\n",
    "        continue\n",
    "    else:\n",
    "        print(\"Too low\")\n",
    "        continue"
   ]
  },
  {
   "cell_type": "code",
   "execution_count": 9,
   "id": "86c83a6f",
   "metadata": {},
   "outputs": [
    {
     "name": "stdout",
     "output_type": "stream",
     "text": [
      "select a random number between 1 and 10.\n",
      "Your guess: 7\n",
      "Too low\n",
      "Your guess: 9\n",
      "Too high\n",
      "Your guess: 8\n",
      "correct number.\n"
     ]
    }
   ],
   "source": [
    "n = random.randint(1, 10)\n",
    "print(\"select a random number between 1 and 10.\")\n",
    "c=0\n",
    "while True:\n",
    "    if c == 7:\n",
    "        break\n",
    "    n1 = int(input(\"Your guess: \"))\n",
    "    if n1 == n:\n",
    "        print(\"correct number.\")\n",
    "        break  \n",
    "    elif n1 > n:\n",
    "        print(\"Too high\")\n",
    "        c+=1\n",
    "        continue\n",
    "    else:\n",
    "        print(\"Too low\")\n",
    "        c+=1\n",
    "        continue"
   ]
  },
  {
   "cell_type": "code",
   "execution_count": 11,
   "id": "a3c48402",
   "metadata": {},
   "outputs": [
    {
     "name": "stdout",
     "output_type": "stream",
     "text": [
      "select a random number between 1 and 10.\n",
      "Your guess: 7\n",
      "Too low\n",
      "do you want a hint (y/n)n\n",
      "Your guess: 7\n",
      "Too low\n",
      "do you want a hint (y/n)y\n",
      "lower limit is 6\n",
      "upper limit is 10\n",
      "Your guess: 9\n",
      "Too high\n",
      "do you want a hint (y/n)y\n",
      "lower limit is 7\n",
      "upper limit is 9\n",
      "Your guess: 8\n",
      "correct number.\n"
     ]
    }
   ],
   "source": [
    "n = random.randint(1, 10)\n",
    "print(\"select a random number between 1 and 10.\")\n",
    "c=2\n",
    "while True:\n",
    "    n1 = int(input(\"Your guess: \"))\n",
    "    if n1 == n:\n",
    "        print(\"correct number.\")\n",
    "        break  \n",
    "    elif n1 > n:\n",
    "        print(\"Too high\")\n",
    "        ch=input(\"do you want a hint (y/n)\")\n",
    "        if ch =='y':\n",
    "            print(\"lower limit is\",n-c)\n",
    "            print(\"upper limit is\",n+c)\n",
    "            c-=1\n",
    "        continue\n",
    "    else:\n",
    "        print(\"Too low\")\n",
    "        ch=input(\"do you want a hint (y/n)\")\n",
    "        if ch =='y':\n",
    "            print(\"lower limit is\",n-c)\n",
    "            print(\"upper limit is\",n+c)\n",
    "            c-=1\n",
    "        continue"
   ]
  },
  {
   "cell_type": "code",
   "execution_count": 15,
   "id": "588b2084",
   "metadata": {},
   "outputs": [
    {
     "name": "stdout",
     "output_type": "stream",
     "text": [
      "Guess the Word \n",
      "Hint: The first letter of the word is 'k'.\n",
      "Your guess: lemon\n",
      "Incorrect\n",
      "Hint: The last letter of the word is 'i'.\n",
      "Your guess: kiwi\n",
      "correct word.\n"
     ]
    }
   ],
   "source": [
    "import random\n",
    "wlist = [\"apple\", \"orange\", \"lemon\", \"grape\", \"melon\", \"peach\", \"banana\", \"kiwi\", \"mango\", \"berry\"]\n",
    "print(\"Guess the Word \")\n",
    "w = random.choice(wlist)\n",
    "while True:\n",
    "    h = random.choice([\"first\", \"last\"])\n",
    "    hint = w[0] if h == \"first\" else w[-1]\n",
    "    print(f\"Hint: The {h} letter of the word is '{hint}'.\")\n",
    "    g = input(\"Your guess: \").lower()\n",
    "    if g == w:\n",
    "        print(\"correct word.\")\n",
    "        break  \n",
    "    else:\n",
    "        print(\"Incorrect\")\n",
    "        continue"
   ]
  },
  {
   "cell_type": "code",
   "execution_count": null,
   "id": "70486bb1",
   "metadata": {},
   "outputs": [],
   "source": []
  }
 ],
 "metadata": {
  "kernelspec": {
   "display_name": "Python 3 (ipykernel)",
   "language": "python",
   "name": "python3"
  },
  "language_info": {
   "codemirror_mode": {
    "name": "ipython",
    "version": 3
   },
   "file_extension": ".py",
   "mimetype": "text/x-python",
   "name": "python",
   "nbconvert_exporter": "python",
   "pygments_lexer": "ipython3",
   "version": "3.11.5"
  }
 },
 "nbformat": 4,
 "nbformat_minor": 5
}
